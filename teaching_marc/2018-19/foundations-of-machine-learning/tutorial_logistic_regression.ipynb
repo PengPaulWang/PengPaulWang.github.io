{
 "cells": [
  {
   "cell_type": "markdown",
   "metadata": {},
   "source": [
    "# Logistic regression tutorial "
   ]
  },
  {
   "cell_type": "code",
   "execution_count": 1,
   "metadata": {
    "collapsed": true
   },
   "outputs": [],
   "source": [
    "import numpy as np\n",
    "import numpy.random as rn\n",
    "import matplotlib.pyplot as plt\n",
    "import scipy\n",
    "from scipy import optimize\n",
    "from scipy import stats\n",
    "\n",
    "%matplotlib inline"
   ]
  },
  {
   "cell_type": "markdown",
   "metadata": {
    "collapsed": true
   },
   "source": [
    "In this tutorial we're going to cover the basics behind logistic regression. For simplicity we will only consider the binary classification case, in which target variables are $y \\in \\{0,1\\}$. Extension to more than two classes is covered in the related material of deep learning courses (probably).\n",
    "\n",
    "In logistic regression, the probability of a data point $(\\boldsymbol x, y)$ being of class 1 is given by\n",
    "\n",
    "$$p(y = 1 | \\boldsymbol x, \\boldsymbol\\theta) = \\sigma (\\boldsymbol x \\boldsymbol\\theta) ~ ,$$\n",
    "\n",
    "where $\\sigma(z) = 1/(1+\\exp(-z))$ is the _sigmoid_ function.\n",
    "\n",
    "Combining this with a Bernoulli likelihood and summing over all datapoints $\\{\\boldsymbol x_i, y_i\\}_{i=1}^N$ we end up with a log-likelihood function that looks like this:\n",
    "\n",
    "$$\\log p(\\boldsymbol y|\\boldsymbol X, \\boldsymbol\\theta) = \\sum_i y_i \\log \\sigma(\\boldsymbol X \\boldsymbol\\theta) + (1 - y_i) \\log ( 1 - \\sigma(\\boldsymbol X \\boldsymbol\\theta))$$\n",
    "\n",
    "You will see this expression in many other classification problems, especially in DL, where it's known as the _cross-entropy loss_.\n",
    "\n",
    "Your goal in this tutorial is to learn how to perform inference over the parameters $\\boldsymbol\\theta$ in logistic regression, including point estimates $\\boldsymbol\\theta_{\\mathrm{ML}}$ and $\\boldsymbol\\theta_{\\mathrm{MAP}}$ and approximations to the posterior $p(\\boldsymbol\\theta | \\boldsymbol X, \\boldsymbol y)$.\n",
    "\n",
    "Let's do it."
   ]
  },
  {
   "cell_type": "markdown",
   "metadata": {
    "collapsed": true
   },
   "source": [
    "## Maximum likelihood estimate"
   ]
  },
  {
   "cell_type": "markdown",
   "metadata": {},
   "source": [
    "Let's start easy. First, let's generate a toy 1D binary dataset with two paramaters:\n",
    "\n",
    "* A **jitter** parameter that controls how noisy the data are; and\n",
    "* An **offset** parameter that controls the separation between the two classes."
   ]
  },
  {
   "cell_type": "code",
   "execution_count": 2,
   "metadata": {
    "collapsed": true
   },
   "outputs": [],
   "source": [
    "# Data generation parameters\n",
    "N = 50\n",
    "D = 2\n",
    "jitter = 0.7\n",
    "offset = 1.2\n",
    "\n",
    "# Generate the data\n",
    "x = np.vstack([rn.normal(0, jitter, (N//2,1)), rn.normal(offset, jitter, (N//2,1))])\n",
    "y = np.vstack([np.zeros((N//2, 1)), np.ones((N//2, 1))])\n",
    "x_test = np.linspace(-2, offset + 2).reshape(-1,1)\n",
    "\n",
    "# Make the augmented data matrix by adding a column of ones\n",
    "x = np.hstack([np.ones((N,1)), x])\n",
    "x_test = np.hstack([np.ones((N,1)), x_test])"
   ]
  },
  {
   "cell_type": "markdown",
   "metadata": {},
   "source": [
    "Now on to the regression. First, let's code up the logistic log-likelihood as a separate function. This will come in handy.\n",
    "\n",
    "* Write a function to calculate the log-likelihood of a dataset given a value of $\\boldsymbol\\theta$."
   ]
  },
  {
   "cell_type": "code",
   "execution_count": 3,
   "metadata": {
    "collapsed": true
   },
   "outputs": [],
   "source": [
    "## EDIT THIS FUNCTION\n",
    "def log_likelihood(X, y, theta):\n",
    "    # X: N x D matrix of training inputs\n",
    "    # y: N x 1 vector of training targets/observations\n",
    "    # theta: parameters (D x 1)\n",
    "    # returns: log likelihood, scalar\n",
    "    \n",
    "    #@solution\n",
    "    p = 1.0/(1 + np.exp(-X @ theta))\n",
    "    L = np.sum(y*np.log(p) + (1 - y)*np.log(1 - p))\n",
    "    #@template\n",
    "    # L = - np.inf ## <-- EDIT THIS LINE\n",
    "    #@end\n",
    "    \n",
    "    return L"
   ]
  },
  {
   "cell_type": "markdown",
   "metadata": {},
   "source": [
    "Now it's time to optimize it to fit the maximum likelihood parameter,\n",
    "\n",
    "$$\\boldsymbol\\theta_{\\mathrm{ML}} = \\mathrm{arg}_\\theta \\max p(\\boldsymbol y | \\boldsymbol X, \\boldsymbol\\theta)$$\n",
    "\n",
    "For linear regression, the likelihood function had a closed-form minimum, which made our lives easy. Alas, that is not the case for logistic regression. We will have to resort to _numerical optimisation_.\n",
    "\n",
    "In the lectures you saw how to derive the gradient and all that jazz. For this tutorial you can do it that way, or any other way you want. The optimization is convex, so this should be easy peasy.\n",
    "\n",
    "* Use any optimiser of your choice and optimise the log-likelihood function you've written above to obtain $\\boldsymbol\\theta_{\\mathrm{ML}}$."
   ]
  },
  {
   "cell_type": "code",
   "execution_count": 4,
   "metadata": {
    "collapsed": true
   },
   "outputs": [],
   "source": [
    "## EDIT THIS FUNCTION\n",
    "def max_lik_estimate(X, y):\n",
    "    \n",
    "    # X: N x D matrix of training inputs\n",
    "    # y: N x 1 vector of training targets/observations\n",
    "    # returns: maximum likelihood parameters (D x 1)\n",
    "    \n",
    "    N, D = X.shape\n",
    "    #@solution\n",
    "    neg_log_lik = lambda th: -log_likelihood(X, y, th.reshape(-1,1))\n",
    "    theta_init = rn.rand(D,1)\n",
    "    theta_ml = optimize.minimize(neg_log_lik, theta_init)['x'].reshape(-1,1)\n",
    "    #@template\n",
    "    # theta_ml = np.zeros((D,1)) ## <-- EDIT THIS LINE\n",
    "    #@end\n",
    "    return theta_ml"
   ]
  },
  {
   "cell_type": "markdown",
   "metadata": {},
   "source": [
    "Now write a predict function and use it."
   ]
  },
  {
   "cell_type": "code",
   "execution_count": 5,
   "metadata": {
    "collapsed": true
   },
   "outputs": [],
   "source": [
    "## EDIT THIS FUNCTION\n",
    "def predict(X, theta):\n",
    "    # Xtest: K x D matrix of test inputs\n",
    "    # theta: D x 1 vector of parameters\n",
    "    # returns: prediction of f(Xtest); K x 1 vector\n",
    "    \n",
    "    #@solution\n",
    "    prediction = 1.0*( 1.0/(1+np.exp(-X @ theta)) > 0.5)\n",
    "    #@template\n",
    "    # prediction = 0 ## <-- EDIT THIS LINE\n",
    "    #@end\n",
    "    \n",
    "    return prediction"
   ]
  },
  {
   "cell_type": "markdown",
   "metadata": {},
   "source": [
    "With this we're in a good position to fit a logistic regression to our toy dataset and start visualising the results. Have a go.\n",
    "\n",
    "1. Use the function you wrote above to estimate $\\boldsymbol\\theta_{\\mathrm{ML}}$ on the toy dataset.\n",
    "2. Visualise the results, including:\n",
    "    1. The data $x$ and target labels $y$. \n",
    "    2. The labels predicted by the model.\n",
    "    3. The probability assigned by the model, $\\sigma(x\\boldsymbol\\theta)$ as a function of $x$."
   ]
  },
  {
   "cell_type": "code",
   "execution_count": 6,
   "metadata": {},
   "outputs": [
    {
     "data": {
      "image/png": "[encoded data removed]",
      "text/plain": [
       "<matplotlib.figure.Figure at 0x7f77c1758fd0>"
      ]
     },
     "metadata": {},
     "output_type": "display_data"
    }
   ],
   "source": [
    "## ADD CODE HERE\n",
    "# Fit and plot the logistic regression\n",
    "\n",
    "#@solution\n",
    "theta_ml = max_lik_estimate(x, y)\n",
    "y_hat = predict(x, theta_ml).squeeze()\n",
    "plt.scatter(x[y_hat < 0.5,1], y[y_hat < 0.5])\n",
    "plt.scatter(x[y_hat > 0.5,1], y[y_hat > 0.5])\n",
    "plt.legend(['Classified as 0', 'Classified as 1'])\n",
    "plt.plot(x_test[:,1], 1.0/(1 + np.exp(-x_test @ theta_ml)))\n",
    "plt.xlabel('x')\n",
    "plt.ylabel('y')\n",
    "plt.show()\n",
    "#@template\n",
    "#@end"
   ]
  },
  {
   "cell_type": "markdown",
   "metadata": {},
   "source": [
    "There you go! That should be a nice and easy fit. There are a few things we can start playing with at this point:\n",
    "\n",
    "* Evaluate the performance of your model: plot the decision boundary, likelihood and accuracy on held-out test sets, etc.\n",
    "* Write a gradient-based and a non-gradient-based optimizer. Do they arrive at the same result? Which one takes longer? Which one evaluates the likelihood function more times?\n",
    "\n",
    "(Warning: if the plot looks odd and you get several warnings, it may be that the data is linearly separable and the sigmoid is saturating, leading to `np.log(0)` numerical problems. Add more noise and retry.)"
   ]
  },
  {
   "cell_type": "markdown",
   "metadata": {},
   "source": [
    "## Bayesian logistic regression"
   ]
  },
  {
   "cell_type": "markdown",
   "metadata": {},
   "source": [
    "### MAP estimate"
   ]
  },
  {
   "cell_type": "markdown",
   "metadata": {},
   "source": [
    "Now let's move to Bayesian inference on the parameters $\\boldsymbol\\theta$. Let's put a prior on them. Because that's what we do. We put priors on things.\n",
    "\n",
    "More specifically, let's use a Gaussian prior parametrised by a mean $\\boldsymbol m$ and a variance $\\boldsymbol S$:\n",
    "\n",
    "$$\\boldsymbol\\theta \\sim  \\mathcal{N}(\\boldsymbol m, \\boldsymbol S)$$\n",
    "\n",
    "Given that $\\boldsymbol\\theta_{\\mathrm{ML}}$ had no analytical solution, it should really come as no surprise that $\\boldsymbol\\theta_{\\mathrm{MAP}}$ doesn't either. That should be no problem for a machine learning expert like you:\n",
    "\n",
    "1. Write down the equation for the full unnormalised posterior $p(\\boldsymbol\\theta | \\boldsymbol X, \\boldsymbol y) \\propto p(\\boldsymbol y | \\boldsymbol\\theta, \\boldsymbol X) p(\\boldsymbol\\theta)$.\n",
    "2. Write a separate function for it, as we did with the log-likelihood above.\n",
    "3. Optimise it to find $\\boldsymbol\\theta_{\\mathrm{MAP}}$ and use it to make predictions."
   ]
  },
  {
   "cell_type": "code",
   "execution_count": 7,
   "metadata": {
    "collapsed": true
   },
   "outputs": [],
   "source": [
    "## EDIT THIS FUNCTION\n",
    "def map_estimate(X, y, m, S):\n",
    "    # X: N x D matrix of training inputs\n",
    "    # y: N x 1 vector of training targets/observations\n",
    "    # m: D x 1 prior mean of parameters\n",
    "    # S: D x D prior covariance of parameters\n",
    "    # returns: maximum a posteriori parameters (D x 1)\n",
    "    \n",
    "    N, D = X.shape\n",
    "    #@solution\n",
    "    prior_L = scipy.linalg.cho_factor(S)\n",
    "    def neg_log_post(arg):\n",
    "        th = arg.reshape(-1,1)\n",
    "        p = 1.0/(1 + np.exp(-X @ th))\n",
    "        prior_term = 0.5*np.sum(scipy.linalg.cho_solve(prior_L, th - m)**2)\n",
    "        likelihood_term = - np.sum(y*np.log(p) + (1-y)*np.log(1 - p))\n",
    "        return likelihood_term + prior_term\n",
    "    \n",
    "    theta_init = rn.rand(D,1)\n",
    "    theta_map = optimize.minimize(neg_log_post, theta_init)['x'].reshape(-1,1)\n",
    "    #@template\n",
    "    # theta_map = np.zeros((D,1)) ## <-- EDIT THIS LINE\n",
    "    #@end\n",
    "    return theta_map"
   ]
  },
  {
   "cell_type": "markdown",
   "metadata": {},
   "source": [
    "Now you can perform a similar model evaluation as you did before. How does your prior influence the MAP estimate and the model's performance?"
   ]
  },
  {
   "cell_type": "code",
   "execution_count": 8,
   "metadata": {},
   "outputs": [
    {
     "data": {
      "image/png": "[encoded data removed]",
      "text/plain": [
       "<matplotlib.figure.Figure at 0x7f77c1758390>"
      ]
     },
     "metadata": {},
     "output_type": "display_data"
    }
   ],
   "source": [
    "## ADD CODE HERE\n",
    "# Fit and plot the MAP logistic regression estimate\n",
    "\n",
    "m = np.zeros((D, 1))\n",
    "S = 5*np.eye(D)\n",
    "\n",
    "#@solution\n",
    "theta_map = map_estimate(x, y, m, S)\n",
    "y_hat = predict(x, theta_map)\n",
    "plt.scatter(x[:,1], y, c=y_hat, cmap='jet')\n",
    "plt.plot(x_test[:,1], 1.0/(1 + np.exp(-x_test @ theta_map)))\n",
    "plt.xlabel('x')\n",
    "plt.ylabel('y')\n",
    "plt.show()\n",
    "#@template\n",
    "#@end"
   ]
  },
  {
   "cell_type": "markdown",
   "metadata": {},
   "source": [
    "### The Laplace approximation"
   ]
  },
  {
   "cell_type": "markdown",
   "metadata": {},
   "source": [
    "As we have hinted above, in logistic regression the posterior distribution over $\\boldsymbol\\theta$ doesn't have an analytical solution. This is the first example in the course of _approximate Bayesian inference_: instead of calculating the exact posterior (as we did with linear regression and GPs), we'll have to approximate it using one of various techniques. The one we'll use in this part of the tutorial is called the **Laplace approximation**.\n",
    "\n",
    "In brief, **the Laplace approximation consists of a Gaussian centered in the peak of the pdf of interest with the same curvature**. Let's make this a bit more rigorous below.\n",
    "\n",
    "Let's say we have a probability distribution $p(z)$ we want to approximate. The distribution $p(z)$ is of the form\n",
    "\n",
    "$$p(z) = \\frac{1}{Z} \\hat{p}(z) ~ ,$$\n",
    "\n",
    "where $\\hat{p}(z)$ is an unnormalised distribution that we can access easily, but $Z$ is unknown. Formally, the Laplace approximation results from a second order Taylor expansion of $\\log \\hat{p}(z)$:\n",
    "\n",
    "$$\\log \\hat{p}(z) \\approx \\log \\hat{p}(z_0) + \\frac{d}{dz}\\log \\hat{p}(z)\\Big|_{z=z_0}(z - z_0) + \\frac{1}{2}\\frac{d^2}{dz^2} \\log \\hat{p}(z)\\Big|_{z=z_0}(z-z_0)^2$$\n",
    "\n",
    "Now let's evaluate this expression at the mode of $p(z)$ -- which is the same as the mode of $\\hat{p}(z)$. We define the mode $z^*$ such that\n",
    "\n",
    "$$\\frac{d}{dz} \\hat{p}(z) \\Big|_{z = z^*} = 0 ~ .$$\n",
    "\n",
    "At this point, the $\\mathcal{O}(z)$ term of the expansion vanishes and we are left with\n",
    "\n",
    "$$\\log \\hat{p}(z) \\approx \\log \\hat{p}(z^*) - \\frac{1}{2}A(z-z^*)^2$$\n",
    "\n",
    "Or, equivalently,\n",
    "\n",
    "$$\\hat{p}(z) \\approx \\hat{p}(z^*) \\exp(-\\frac{A}{2}(z - z^*)^2) ~ ,$$\n",
    "\n",
    "where\n",
    "\n",
    "$$A = - \\frac{d^2}{dz^2} \\log \\hat{p}(z)\\Big|_{z=z^*} ~ .$$\n",
    "\n",
    "And now this distribution we know how to normalise, because it's one of those Gaussians we know and love. By inspection, we can identify the mean and the covariance, and write down the Laplace approximation of $p(z)$ as\n",
    "\n",
    "$$q(z) = \\mathcal{N}(z | z^*, A^{-1})$$\n",
    "\n",
    "As an example, let's use the unnormalised distribution $\\hat{p}(z) = x e^{-x/2}$. When normalised properly, this is in fact the $\\chi^2$ distribution with $k=4$ degrees of freedom. Have a go yourself:\n",
    "\n",
    "1. Plot $p(z)$.\n",
    "2. Take the first derivative of $\\hat{p}(z)$ (or the first derivative of its log), and find its maximum $z^*$ analytically.\n",
    "3. In the same plot, draw a vertical line at $z = z^*$ to verify you got the right answer.\n",
    "4. Take the second derivative of $\\log \\hat{p}(z)$ and evaluate it at $z^*$.\n",
    "5. Plot the corresponding Gaussian $q(z)$ and verify the approximation looks reasonable."
   ]
  },
  {
   "cell_type": "code",
   "execution_count": 9,
   "metadata": {},
   "outputs": [
    {
     "data": {
      "image/png": "[encoded data removed]",
      "text/plain": [
       "<matplotlib.figure.Figure at 0x7f77bf613320>"
      ]
     },
     "metadata": {},
     "output_type": "display_data"
    }
   ],
   "source": [
    "## ADD CODE HERE\n",
    "# Find the Laplace approximation of x*exp(-x/2) with pen and paper and then plot it.\n",
    "z = np.linspace(0,10)\n",
    "p_hat = z*np.exp(-z/2)\n",
    "p = stats.chi2.pdf(z, 4)\n",
    "\n",
    "#@solution\n",
    "z_star = 2\n",
    "A = 1/4\n",
    "q = stats.norm.pdf(z, z_star, 1/np.sqrt(A))\n",
    "plt.plot(z, p)\n",
    "plt.plot(z, q)\n",
    "plt.legend(['True p(z)', 'Laplace q(z)'])\n",
    "plt.axvline(z_star, c='r')\n",
    "plt.show()\n",
    "#@template\n",
    "#@end"
   ]
  },
  {
   "cell_type": "markdown",
   "metadata": {},
   "source": [
    "### Bayesian logistic regression (for real this time)"
   ]
  },
  {
   "cell_type": "markdown",
   "metadata": {},
   "source": [
    "Now we have obtained the mode (peak) of the posterior through the MAP estimate above, it's time to go all the way and calculate the posterior over $\\boldsymbol\\theta$. However, as we mentioned above the posterior doesn't have an analytical form, so we'll use -- you guessed it -- the Laplace transform.\n",
    "\n",
    "1. Write a function, based on your previous code, that will calculate the Laplace approximation $q(\\boldsymbol\\theta)$ of the true prior $p(\\boldsymbol\\theta | \\boldsymbol X, \\boldsymbol y)$ and return the mean and variance of $q$.\n",
    "2. To visualise the behaviour and the diversity of $q$, draw a number $j = 1, ... J$ of samples $\\boldsymbol\\theta_j \\sim q(\\boldsymbol\\theta)$. For each sample, plot its predicted class probabilities $\\sigma(x \\boldsymbol\\theta_j)$.\n",
    "\n",
    "_Hint_: the extension of the Laplace approximation to multivariate distributions is straightforward, and in this case the variance of the Gaussian is the Hessian of the log likelihood $A = - \\nabla_\\theta \\nabla_\\theta \\log p(\\boldsymbol\\theta | \\boldsymbol X, \\boldsymbol y)$."
   ]
  },
  {
   "cell_type": "code",
   "execution_count": 10,
   "metadata": {
    "collapsed": true
   },
   "outputs": [],
   "source": [
    "## EDIT THIS FUNCTION\n",
    "def get_posterior(X, y, m, S):\n",
    "    # X: N x D matrix of training inputs\n",
    "    # y: N x 1 vector of training targets/observations\n",
    "    # m: D x 1 prior mean of parameters\n",
    "    # S: D x D prior covariance of parameters\n",
    "    # returns: maximum a posteriori parameters (D x 1)\n",
    "    #          covariance of Laplace apprx (D x D)\n",
    "\n",
    "    #@solution\n",
    "    theta_map = map_estimate(X, y, m, S)\n",
    "    p = 1.0/(1 + np.exp(-X @ theta_map))\n",
    "    R = np.diag((p*(1-p)).squeeze())\n",
    "    S_post_inv = np.linalg.inv(S) + X.T @ R @ X\n",
    "\n",
    "    mu_post = theta_map\n",
    "    S_post = np.linalg.inv(S_post_inv)\n",
    "    \n",
    "    #@template\n",
    "    # mu_post = np.zeros((D, 1)) ## <-- EDIT THESE LINES\n",
    "    # S_post  = np.eye(D)\n",
    "    #@end\n",
    "    \n",
    "    return mu_post, S_post"
   ]
  },
  {
   "cell_type": "code",
   "execution_count": 11,
   "metadata": {},
   "outputs": [
    {
     "data": {
      "image/png": "[encoded data removed]",
      "text/plain": [
       "<matplotlib.figure.Figure at 0x7f77c1758358>"
      ]
     },
     "metadata": {},
     "output_type": "display_data"
    }
   ],
   "source": [
    "## ADD CODE HERE\n",
    "# Calculate the Laplace posterior for theta, draw a few samples and plot\n",
    "# the corresponding likelihood functions for each one.\n",
    "m = np.zeros((D, 1))\n",
    "S = 5*np.eye(D)\n",
    "nb_samples = 5\n",
    "\n",
    "theta_map, S_post = get_posterior(x, y, m, S)\n",
    "plt.scatter(x[:,1], y)\n",
    "for i in range(nb_samples):\n",
    "    #@solution\n",
    "    L_post = scipy.linalg.cho_factor(S_post)[0]\n",
    "    th = theta_map + L_post @ rn.randn(D,1)\n",
    "    plt.plot(x_test[:,1], 1.0/(1 + np.exp(-x_test @ th)))\n",
    "    #@template\n",
    "    # plt.plot() ## <--EDIT THIS LINE\n",
    "    #@end\n",
    "plt.show()"
   ]
  },
  {
   "cell_type": "markdown",
   "metadata": {
    "collapsed": true
   },
   "source": [
    "## Comparing posterior approximations"
   ]
  },
  {
   "cell_type": "markdown",
   "metadata": {},
   "source": [
    "The Laplace approximation is part of a family of methods known as _deterministic approximate inference_. In addition, there's another set of methods known as _stochastic approximate inference_ which, as you can guess includes most of the sampling techniques you have studied.\n",
    "\n",
    "You must be an expert in sampling by now. Let's actually go and check whether this Laplace approximation we just made is legit.\n",
    "\n",
    "* What sampling methods do you know to sample from an unnormalized distribution?\n",
    "\n",
    "For example, let's try the Metropolis algorithm.\n",
    "\n",
    "1. Write a proposal function to move in $\\boldsymbol\\theta$-space.\n",
    "2. Write a function to accept or reject new proposals based on the Metropolis criterion.\n",
    "3. Write a loop and run the Markov chain for a few thousand iterations.\n",
    "4. Check that the sampling worked: did the Markov chain mix properly? What's the acceptance rate? How does it depend on the proposal function?"
   ]
  },
  {
   "cell_type": "code",
   "execution_count": 12,
   "metadata": {},
   "outputs": [
    {
     "name": "stdout",
     "output_type": "stream",
     "text": [
      "Acceptance rate: 0.533600\n"
     ]
    }
   ],
   "source": [
    "## ADD CODE HERE\n",
    "# Write a sampler to sample from the logistic posterior p(\\theta|X,y)\n",
    "\n",
    "#@solution\n",
    "nb_iter = 10000\n",
    "step_size = 0.5\n",
    "samples = np.zeros((nb_iter, D))\n",
    "th_last = np.zeros((D, 1))\n",
    "Lp_last = -np.inf\n",
    "prior_chol = scipy.linalg.cho_factor(S)\n",
    "count = 0\n",
    "for i in range(nb_iter):\n",
    "    th_prop = th_last + step_size*rn.randn(D,1)\n",
    "\n",
    "    p = 1.0/(1 + np.exp(-x @ th_prop))\n",
    "    prior_term = - 0.5*np.sum(scipy.linalg.cho_solve(prior_chol, th_prop - m)**2)\n",
    "    likelihood_term = np.sum(y*np.log(p) + (1-y)*np.log(1 - p))\n",
    "    Lp_prop = likelihood_term + prior_term\n",
    "\n",
    "    if rn.rand() < np.exp(Lp_prop - Lp_last):\n",
    "        # Accept\n",
    "        th_last = th_prop\n",
    "        Lp_last = Lp_prop\n",
    "        count = count + 1\n",
    "    samples[i] = th_last.squeeze()\n",
    "    \n",
    "print('Acceptance rate: %f'%(count/nb_iter))\n",
    "#@template\n",
    "#@end"
   ]
  },
  {
   "cell_type": "markdown",
   "metadata": {},
   "source": [
    "Finally, let's plot the results and see if both inference methods arrive at roughly the same posterior.\n",
    "\n",
    "In the same axis, plot\n",
    "\n",
    "* The histogram pdf of the MCMC samples (you may want to look at the `normed` option in `plt.hist`); and\n",
    "* The Laplace posterior.\n",
    "\n",
    "Make one plot for the intercept ($\\theta_0$) and one for the slope ($\\theta_1$). How do they look like? Do they match? What kinds of posteriors do you think the Laplace approximation will be good or bad at approximating?"
   ]
  },
  {
   "cell_type": "code",
   "execution_count": 13,
   "metadata": {},
   "outputs": [
    {
     "data": {
      "image/png": "[encoded data removed]",
      "text/plain": [
       "<matplotlib.figure.Figure at 0x7f77bf516b00>"
      ]
     },
     "metadata": {},
     "output_type": "display_data"
    }
   ],
   "source": [
    "## ADD CODE HERE\n",
    "# Plot a histogram of the MCMC posterior samples and the\n",
    "# analytical expression for the Laplace posterior. If\n",
    "# everything went well, the peaks should coincide and\n",
    "# their widths should be comparable.\n",
    "\n",
    "#@solution\n",
    "_,_,h1 = plt.hist(samples[:,1], bins=50, normed=True)\n",
    "h2, = plt.plot(np.linspace(0,10),\n",
    "         stats.multivariate_normal.pdf(np.linspace(0,10), theta_map[1], S_post[1,1]), 'r')\n",
    "plt.legend([h1[0], h2], ['Metropolis samples', 'Laplace posterior'])\n",
    "plt.xlabel(r'\\theta_1')\n",
    "plt.show()\n",
    "#@template\n",
    "#@end"
   ]
  },
  {
   "cell_type": "markdown",
   "metadata": {},
   "source": [
    "Et violà! Now you're an expert in logistic regression. (Wait, I think that's a big violin. I meant to say: et voilà!)\n",
    "\n",
    "Now we can visualise the posterior we can play around with the data and the inference parameters:\n",
    "\n",
    "* Play around with the data generation process. What happens as you increase/decrease $N$ and the jitter parameter?\n",
    "* How does the joint posterior look? Make a visualisation of the MCMC and Laplace approximations in the $(\\theta_0, \\theta_1)$ plane.\n",
    "* What happens if the model is misspecified? Take out the intercept term in the model (i.e. remove the column of ones in $X$), but set the `offset` in the data generation process to non-zero. What happens to the posterior and its Laplace approximation?\n"
   ]
  }
 ],
 "metadata": {
  "kernelspec": {
   "display_name": "Python 3",
   "language": "python",
   "name": "python3"
  },
  "language_info": {
   "codemirror_mode": {
    "name": "ipython",
    "version": 3
   },
   "file_extension": ".py",
   "mimetype": "text/x-python",
   "name": "python",
   "nbconvert_exporter": "python",
   "pygments_lexer": "ipython3",
   "version": "3.6.2"
  }
 },
 "nbformat": 4,
 "nbformat_minor": 2
}
